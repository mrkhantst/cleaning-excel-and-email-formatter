{
 "cells": [
  {
   "cell_type": "code",
   "execution_count": null,
   "id": "de61df91",
   "metadata": {
    "pycharm": {
     "name": "#%%\n"
    }
   },
   "outputs": [],
   "source": [
    "import pandas as pd\n",
    "\n",
    "excel = pd.read_excel(\"data.xlsx\") # data.xlsx is your excel file name\n",
    "\n",
    "exce.to_csv(\"data.csv\", index=False) # do not change the data.csv\n",
    "\n",
    "data = pd.read_csv(\"data.scv\")\n",
    "\n",
    "# See the length of your excel file\n",
    "len(data.csv)"
   ]
  },
  {
   "cell_type": "code",
   "execution_count": null,
   "id": "7a5d0204",
   "metadata": {
    "pycharm": {
     "name": "#%%\n"
    }
   },
   "outputs": [],
   "source": [
    "# This will show to the sum of missing data in email column\n",
    "\n",
    "data[\"Email Address\"].isna().sum() # your email column name should be Email Address.If it is not, change it."
   ]
  },
  {
   "cell_type": "code",
   "execution_count": null,
   "id": "d331aa27",
   "metadata": {
    "pycharm": {
     "name": "#%%\n"
    }
   },
   "outputs": [],
   "source": [
    "data.drop_duplicates(subset=\"Email Address\",\n",
    "                     keep=False, inplace=True)\n",
    "\n",
    "data[\"Email Address\"] = data[\"Email Address\"].str.strip()\n",
    "data[\"Email Address\"] = data[\"Email Address\"].str.lower()\n",
    "\n",
    "data[\"Email Address\"].dropna(inplace=True)\n",
    "\n",
    "data[\"Email Address\"].replace(\"@gmail.com\", \"@gmail.com, \", regex=True, inplace=True)\n",
    "data[\"Email Address\"].replace(\"@gmail. com\", \"@gmail.com, \", regex=True, inplace=True)\n",
    "data[\"Email Address\"].replace(\"@ gmail .com\", \"@gmail.com, \", regex=True, inplace=True)\n",
    "data[\"Email Address\"].replace(\"@ gmail.com\", \"@gmail.com, \", regex=True, inplace=True)\n",
    "data[\"Email Address\"].replace(\" @gmail.com\", \"@gmail.com, \", regex=True, inplace=True)\n",
    "data[\"Email Address\"].replace(\"@mail.com\", \"@gmail.com, \", regex=True, inplace=True)\n",
    "data[\"Email Address\"].replace(\"@email.com\", \"@gmail.com, \", regex=True, inplace=True)\n",
    "data[\"Email Address\"].replace(\"@gamil.com\", \"@gmail.com, \", regex=True, inplace=True)\n",
    "\n",
    "data.to_excel('email.xlsx', index=False)"
   ]
  },
  {
   "cell_type": "code",
   "execution_count": null,
   "id": "bc69313b",
   "metadata": {
    "pycharm": {
     "name": "#%%\n"
    }
   },
   "outputs": [],
   "source": [
    "# See the lenght of you excel file after cleaning the data\n",
    "len(data)"
   ]
  },
  {
   "cell_type": "code",
   "execution_count": null,
   "id": "f5c19a80",
   "metadata": {
    "pycharm": {
     "name": "#%%\n"
    }
   },
   "outputs": [],
   "source": []
  }
 ],
 "metadata": {
  "kernelspec": {
   "display_name": "Python 3 (ipykernel)",
   "language": "python",
   "name": "python3"
  },
  "language_info": {
   "codemirror_mode": {
    "name": "ipython",
    "version": 3
   },
   "file_extension": ".py",
   "mimetype": "text/x-python",
   "name": "python",
   "nbconvert_exporter": "python",
   "pygments_lexer": "ipython3",
   "version": "3.9.12"
  }
 },
 "nbformat": 4,
 "nbformat_minor": 5
}